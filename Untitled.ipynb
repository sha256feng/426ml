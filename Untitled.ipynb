{
 "cells": [
  {
   "cell_type": "code",
   "execution_count": 99,
   "metadata": {},
   "outputs": [
    {
     "data": {
      "text/plain": [
       "array([0.7116033 , 0.54098185, 0.49020305, 0.44388215, 0.4411755 ,\n",
       "       0.44391066, 0.446488  , 0.4517876 , 0.45645953, 0.4610619 ])"
      ]
     },
     "execution_count": 99,
     "metadata": {},
     "output_type": "execute_result"
    }
   ],
   "source": [
    "import numpy as np\n",
    "import pandas as pd\n",
    "a = [0.13480991, 0.18806278, 0.21245667, 0.15553603, 0.19050867, 0.22264714, 0.24378618, 0.26737965, 0.28546332, 0.3003923]\n",
    "b = [1, 0.71865094, 0.63016905, 0.59017129, 0.56981541, 0.55852521, 0.55268931, 0.54934625, 0.54764112, 0.54728611]\n",
    "c = [1, 0.71623182, 0.62798343, 0.58593914, 0.56320242, 0.55055962, 0.5429885,  0.53863689, 0.53627416, 0.53550728]\n",
    "d=[]\n",
    "d.append(a)\n",
    "d.append(b)\n",
    "d.append(c)\n",
    "d= np.asarray(d)\n",
    "# print(d.shape)\n",
    "e = np.average(d, axis=0)\n",
    "e"
   ]
  },
  {
   "cell_type": "code",
   "execution_count": 100,
   "metadata": {
    "scrolled": true
   },
   "outputs": [
    {
     "data": {
      "text/plain": [
       "[<matplotlib.lines.Line2D at 0x1204f3208>]"
      ]
     },
     "execution_count": 100,
     "metadata": {},
     "output_type": "execute_result"
    },
    {
     "data": {
      "image/png": "[encoded data removed]",
      "text/plain": [
       "<Figure size 432x288 with 1 Axes>"
      ]
     },
     "metadata": {
      "needs_background": "light"
     },
     "output_type": "display_data"
    }
   ],
   "source": [
    "import matplotlib.pyplot as plt\n",
    "q = np.arange(10)+1\n",
    "plt.xlabel('k')\n",
    "plt.ylabel('NDCG')\n",
    "plt.plot(q, e)\n",
    "    "
   ]
  },
  {
   "cell_type": "code",
   "execution_count": 34,
   "metadata": {},
   "outputs": [],
   "source": [
    "def del_colname(x):\n",
    "    x = str(x)\n",
    "    x = x.split(\":\")\n",
    "    return float(x[-1])"
   ]
  },
  {
   "cell_type": "code",
   "execution_count": 79,
   "metadata": {},
   "outputs": [],
   "source": [
    "def NDCG(k, df_data, r): #1*1\n",
    "    \"\"\" NDCG is the value function.\n",
    "    It is made of a discount function of ranking D(r) and an increasing function phi(g) for relevance score.\n",
    "    D(r) = 1 / log2(1+r), \n",
    "    phi(g) = np.power(2, g) - 1\n",
    "    It favors higher ranking for highly relevant doc.\n",
    "    \"\"\"\n",
    "    r = r[0:k]\n",
    "    g = df_data.iloc[:,0].values[0:k]\n",
    "    \n",
    "    res = np.dot(1. / np.log2(1+r), (np.power(2,g) - 1))\n",
    "    return res"
   ]
  },
  {
   "cell_type": "code",
   "execution_count": 88,
   "metadata": {},
   "outputs": [
    {
     "name": "stdout",
     "output_type": "stream",
     "text": [
      "0.1965616322328226\n",
      "0.20493581809663444\n",
      "0.20493581809663444\n",
      "0.20493581809663444\n",
      "0.20493581809663444\n",
      "0.20493581809663444\n",
      "0.20493581809663444\n",
      "0.20493581809663444\n",
      "0.20493581809663444\n",
      "0.20493581809663444\n"
     ]
    }
   ],
   "source": [
    "path = \"./Rank_svm/fold1/prediction-c-10.txt\"\n",
    "col = pd.read_csv(path, delimiter=\" \", header=None)\n",
    "col = pd.DataFrame(col)\n",
    "col.columns=['47']\n",
    "# print(col)\n",
    "\n",
    "path = \"./Datasets/OHSUMED/QueryLevelNorm/Fold1/test.txt\"\n",
    "test = pd.read_csv(path, delimiter=\" \", header=None)\n",
    "test = pd.DataFrame(test)\n",
    "test = test.drop([47, 48, 49],axis=1) \n",
    "test = pd.concat([test, col],axis=1)\n",
    "test = test.apply(np.vectorize(del_colname))\n",
    "# print(test.iloc[:, 47])\n",
    "\n",
    "test_q_min = int(test[1].min())\n",
    "test_q_max = int(test[1].max())\n",
    "test_qnum = test_q_max - test_q_min + 1\n",
    "\n",
    "test_ls = [None] * test_qnum\n",
    "\n",
    "for i in range(test_q_min, test_q_max+1):\n",
    "    test_ls[i-test_q_min] = test.loc[test[1] == i].sort_values(0, ascending = False)\n",
    "    test_ls[i-test_q_min].reset_index(drop = True)\n",
    "    \n",
    "    \n",
    "for j in range(10):\n",
    "    k=j+1\n",
    "    NDCG_Yq = 0\n",
    "    NDCG_Y_hat = 0\n",
    "\n",
    "    for i in range(1):\n",
    "        df_test = test_ls[i]\n",
    "        [data_Row,data_Col] = df_test.shape\n",
    "        docs_num = data_Row\n",
    "\n",
    "        y_hat =  df_test.iloc[:, 47]\n",
    "        r = np.argsort(y_hat)\n",
    "        l = [0]*len(r)\n",
    "        for i in range(len(r)):\n",
    "            l[r[i]]=i+1\n",
    "        l = pd.Series(l)\n",
    "\n",
    "        NDCG_Yq = NDCG_Yq + NDCG(k, df_test, np.arange(1,docs_num+1))\n",
    "        NDCG_Y_hat = NDCG_Y_hat + NDCG(k, df_test, l)\n",
    "\n",
    "    print(NDCG_Y_hat/NDCG_Yq)"
   ]
  },
  {
   "cell_type": "code",
   "execution_count": 70,
   "metadata": {},
   "outputs": [
    {
     "name": "stdout",
     "output_type": "stream",
     "text": [
      "[1 2 0]\n"
     ]
    },
    {
     "data": {
      "text/plain": [
       "[2, 0, 1]"
      ]
     },
     "execution_count": 70,
     "metadata": {},
     "output_type": "execute_result"
    }
   ],
   "source": [
    "y_hat = [3,1,2]\n",
    "r = np.argsort(y_hat)\n",
    "print(r)\n",
    "l = [0]*len(r)\n",
    "for i in range(len(r)):\n",
    "    l[r[i]]=i+1\n",
    "l\n",
    "#3421 | 2310"
   ]
  },
  {
   "cell_type": "code",
   "execution_count": null,
   "metadata": {},
   "outputs": [],
   "source": []
  }
 ],
 "metadata": {
  "kernelspec": {
   "display_name": "Python 3",
   "language": "python",
   "name": "python3"
  },
  "language_info": {
   "codemirror_mode": {
    "name": "ipython",
    "version": 3
   },
   "file_extension": ".py",
   "mimetype": "text/x-python",
   "name": "python",
   "nbconvert_exporter": "python",
   "pygments_lexer": "ipython3",
   "version": "3.7.2"
  }
 },
 "nbformat": 4,
 "nbformat_minor": 2
}
