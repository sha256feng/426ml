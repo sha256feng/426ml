{
 "cells": [
  {
   "cell_type": "code",
   "execution_count": 219,
   "metadata": {},
   "outputs": [],
   "source": [
    "import numpy as np\n",
    "import pandas as pd\n",
    "from qpsolvers import solve_qp\n",
    "import matplotlib.pyplot as plt"
   ]
  },
  {
   "cell_type": "code",
   "execution_count": 139,
   "metadata": {},
   "outputs": [],
   "source": [
    "data = pd.read_csv('./Datasets/OHSUMED/QueryLevelNorm/Fold1/train.txt', delimiter=\" \", header=None)\n",
    "data = pd.DataFrame(data)\n",
    "data = data.drop([47, 48, 49],axis=1) # 47, 48, 49th cols are [\"#docid\", \"=\", docID]"
   ]
  },
  {
   "cell_type": "code",
   "execution_count": 140,
   "metadata": {},
   "outputs": [],
   "source": [
    "# For deleting unnecessary prefix eg, \"1:0.123432\", \"2:12.234\" in each cell\n",
    "def del_colname(x):\n",
    "    x = str(x)\n",
    "    x = x.split(\":\")\n",
    "    return float(x[-1])\n",
    "data = data.apply(np.vectorize(del_colname))"
   ]
  },
  {
   "cell_type": "code",
   "execution_count": 141,
   "metadata": {},
   "outputs": [],
   "source": [
    "k = 7\n",
    "q_min = int(data[1].min())\n",
    "# q_max = int(data[1].max())\n",
    "q_max = q_min+30\n",
    "qnum = q_max - q_min + 1\n",
    "\n",
    "w = pd.Series([0]*45)\n",
    "slack = 0\n",
    "SqChanged = 0\n",
    "\n",
    "data_ls = [None] * qnum\n",
    "y_hat_ls = [None] * qnum #change every element of this list every iteration\n"
   ]
  },
  {
   "cell_type": "code",
   "execution_count": 142,
   "metadata": {},
   "outputs": [],
   "source": [
    "\"\"\"init data_ls\"\"\"\n",
    "for i in range(q_min, q_max+1):\n",
    "    \n",
    "    # For each query id, store them as a separate dataframe in a list\n",
    "    # In each query id dataframe, they are ranked by relevance\n",
    "    data_ls[i-q_min] = data.loc[data[1] == i].sort_values(0, ascending = False)\n",
    "\n",
    "    # After sorting, drop the original index\n",
    "    data_ls[i-q_min].reset_index(drop = True)\n",
    "    \n",
    "# print(data_ls[0].iloc[:,0].values)\n"
   ]
  },
  {
   "cell_type": "code",
   "execution_count": 143,
   "metadata": {},
   "outputs": [],
   "source": [
    "def feature_map(df_data, y=list()): #1*n\n",
    "    [data_Row,data_Col] = df_data.shape\n",
    "    docs_num = data_Row\n",
    "        \n",
    "    ones = np.ones(docs_num)\n",
    "    zeros = np.zeros(docs_num)\n",
    "    \n",
    "    if(len(y)==0):\n",
    "        y = np.arange(1,docs_num+1)\n",
    "    \n",
    "    A = (k*ones+1)-y\n",
    "    A = np.row_stack((A, zeros))\n",
    "    array_A = np.max(A, axis = 0)\n",
    "#     matrix_A = np.expand_dims(array_A, axis=0)\n",
    "    \n",
    "    return np.dot(array_A, df_data.iloc[:,2:])"
   ]
  },
  {
   "cell_type": "code",
   "execution_count": 144,
   "metadata": {},
   "outputs": [],
   "source": [
    "def objF(df_data, y=list()): #1*1\n",
    "    featureMap = feature_map(df_data, y)\n",
    "    obj = np.dot(featureMap, w.T)\n",
    "    return obj"
   ]
  },
  {
   "cell_type": "code",
   "execution_count": 199,
   "metadata": {},
   "outputs": [],
   "source": [
    "def NDCG(df_data, r): #1*1\n",
    "    \"\"\" NDCG is the value function.\n",
    "    It is made of a discount function of ranking D(r) and an increasing function phi(g) for relevance score.\n",
    "    D(r) = 1 / log2(1+r), \n",
    "    phi(g) = np.power(2, g) - 1\n",
    "    It favors higher ranking for highly relevant doc.\n",
    "    \"\"\"\n",
    "    r = r[0:k]\n",
    "    g = df_data.iloc[:,0].values[0:k]\n",
    "    \n",
    "    res = np.dot(1. / np.log2(1+r), (np.power(2,g) - 1))\n",
    "    return res"
   ]
  },
  {
   "cell_type": "code",
   "execution_count": 146,
   "metadata": {},
   "outputs": [],
   "source": [
    "def kuhn_m(df_data):\n",
    "    from scipy.optimize import linear_sum_assignment\n",
    "    res = []\n",
    "    \n",
    "    [data_Row,data_Col] = df_data.shape\n",
    "    docs_num = data_Row\n",
    "        \n",
    "    ones = np.ones(docs_num)\n",
    "    zeros = np.zeros(docs_num)\n",
    "    \n",
    "    for i in range(docs_num):\n",
    "        rank = i+1\n",
    "        \n",
    "        y = np.ones(docs_num)*rank\n",
    "        A = (k*ones+1)-y\n",
    "        A = np.row_stack((A, zeros))\n",
    "        array_A = np.max(A, axis = 0)\n",
    "    \n",
    "        xw = np.dot(w, df_data.iloc[:,2:].T) #1*m\n",
    "        awx = np.multiply(array_A, xw) #1*m\n",
    "        \n",
    "        g = df_data.iloc[:,0].values #1*m\n",
    "        gd = np.dot(1. / np.log2(1+rank), (np.power(2,g) - 1)) #1*m\n",
    "        \n",
    "        res.append(awx-gd)\n",
    "    \n",
    "    cost = np.asarray(res) #m*m\n",
    "    \n",
    "    row_ind, col_ind = linear_sum_assignment(cost)\n",
    "    y_pred = cost[row_ind,col_ind]\n",
    "    \n",
    "    return y_pred"
   ]
  },
  {
   "cell_type": "code",
   "execution_count": 147,
   "metadata": {},
   "outputs": [],
   "source": [
    "def constrain(df_data, y_hat): #return 1 for satisfy, 0 for violate\n",
    "    [data_Row,data_Col] = df_data.shape\n",
    "    docs_num = data_Row\n",
    "    \n",
    "    objYq = objF(df_data)\n",
    "    \n",
    "    objY = objF(df_data, y_hat)\n",
    "    \n",
    "    r = np.arange(1,docs_num+1)\n",
    "    ndcg = NDCG(df_data, r)\n",
    "    deltaQy = 1 - ndcg\n",
    "    \n",
    "    cons = objYq - objY - deltaQy + slack\n",
    "#     print(\"cons:\", cons)\n",
    "    if(cons<0):\n",
    "        return 0\n",
    "    return 1\n"
   ]
  },
  {
   "cell_type": "code",
   "execution_count": 148,
   "metadata": {},
   "outputs": [],
   "source": [
    "def alg():\n",
    "    global SqChanged\n",
    "    for i in range(qnum):\n",
    "        df_data = data_ls[i]\n",
    "        y_hat = kuhn_m(df_data)\n",
    "        y_hat_ls[i] = y_hat\n",
    "        if(constrain(df_data, y_hat)==0):\n",
    "            SqChanged = 1\n"
   ]
  },
  {
   "cell_type": "code",
   "execution_count": 151,
   "metadata": {},
   "outputs": [],
   "source": [
    "def opt():\n",
    "    global w\n",
    "    v = []\n",
    "    b = []\n",
    "    for i in range(qnum):\n",
    "        df_data = data_ls[i]\n",
    "        \n",
    "        v.append(feature_map(data_ls[i], y_hat_ls[i]) - feature_map(data_ls[i]))\n",
    "        \n",
    "        [data_Row,data_Col] = df_data.shape\n",
    "        docs_num = data_Row\n",
    "        r = np.arange(1,docs_num+1)\n",
    "        bq = 1-NDCG(df_data, r)\n",
    "        b.append(bq)\n",
    "        \n",
    "    v_matrix = np.asarray(v) #q*n\n",
    "    K = np.dot(v_matrix, v_matrix.T)\n",
    "    \n",
    "    b_matrix = np.asarray(b) #1*q\n",
    "    \n",
    "    G = -1*np.eye(qnum)\n",
    "    h = np.zeros(qnum)\n",
    "    A = np.ones(qnum)\n",
    "    b = np.array([10])\n",
    "#     print(K.shape, b_matrix.shape, G.shape, h.shape, A.shape, b.shape)\n",
    "    \n",
    "    alpha = solve_qp(K, b_matrix, G, h, A, b)\n",
    "    w =  np.dot(alpha, v_matrix)\n",
    "    "
   ]
  },
  {
   "cell_type": "code",
   "execution_count": 152,
   "metadata": {
    "scrolled": false
   },
   "outputs": [
    {
     "name": "stdout",
     "output_type": "stream",
     "text": [
      "round 0\n",
      "opt\n",
      "round 1\n",
      "opt\n",
      "round 2\n",
      "opt\n",
      "round 3\n",
      "opt\n",
      "round 4\n",
      "opt\n",
      "round 5\n",
      "opt\n",
      "round 6\n",
      "opt\n",
      "round 7\n",
      "opt\n",
      "round 8\n",
      "opt\n",
      "round 9\n",
      "opt\n"
     ]
    }
   ],
   "source": [
    "for i in range(10):\n",
    "    print(\"round\", i)\n",
    "    alg()\n",
    "    if(SqChanged==1):\n",
    "        opt()\n",
    "    else:\n",
    "        break\n"
   ]
  },
  {
   "cell_type": "code",
   "execution_count": 236,
   "metadata": {},
   "outputs": [],
   "source": [
    "test = pd.read_csv('./Datasets/OHSUMED/QueryLevelNorm/Fold1/test.txt', delimiter=\" \", header=None)\n",
    "test = pd.DataFrame(test)\n",
    "test = test.drop([47, 48, 49],axis=1) # 47, 48, 49th cols are [\"#docid\", \"=\", docID]\n",
    "test = test.apply(np.vectorize(del_colname))\n"
   ]
  },
  {
   "cell_type": "code",
   "execution_count": 237,
   "metadata": {},
   "outputs": [],
   "source": [
    "q_min = int(test[1].min())\n",
    "q_max = q_min+30\n",
    "qnum = q_max - q_min + 1\n",
    "\n",
    "test_ls = [None] * qnum\n",
    "\n",
    "NDCG_Yq = []\n",
    "NDCG_Y_hat = []\n"
   ]
  },
  {
   "cell_type": "code",
   "execution_count": 238,
   "metadata": {
    "scrolled": true
   },
   "outputs": [],
   "source": [
    "for i in range(q_min, q_max+1):\n",
    "    test_ls[i-q_min] = test.loc[test[1] == i].sort_values(0, ascending = False)\n",
    "    test_ls[i-q_min].reset_index(drop = True)\n"
   ]
  },
  {
   "cell_type": "code",
   "execution_count": 239,
   "metadata": {},
   "outputs": [],
   "source": [
    "def testw():\n",
    "    for i in range(qnum):\n",
    "        df_test = test_ls[i]\n",
    "        [data_Row,data_Col] = df_test.shape\n",
    "        docs_num = data_Row\n",
    "        \n",
    "        y_hat = np.dot(w, df_test.iloc[:,2:].T) #1*m\n",
    "        r = np.argsort(y_hat)+1\n",
    "        \n",
    "        NDCG_Y_hat.append(NDCG(df_test, r))\n",
    "        NDCG_Yq.append(NDCG(df_test, np.arange(1,docs_num+1)))\n",
    "#     print(NDCG_Yq[20])\n",
    "#     print(NDCG_Y_hat[20])"
   ]
  },
  {
   "cell_type": "code",
   "execution_count": 241,
   "metadata": {},
   "outputs": [
    {
     "name": "stdout",
     "output_type": "stream",
     "text": [
      "31\n",
      "31\n",
      "31\n"
     ]
    },
    {
     "data": {
      "text/plain": [
       "[<matplotlib.lines.Line2D at 0x101e8aba90>]"
      ]
     },
     "execution_count": 241,
     "metadata": {},
     "output_type": "execute_result"
    },
    {
     "data": {
      "image/png": "[encoded data removed]",
      "text/plain": [
       "<Figure size 432x288 with 1 Axes>"
      ]
     },
     "metadata": {
      "needs_background": "light"
     },
     "output_type": "display_data"
    }
   ],
   "source": [
    "# testw()\n",
    "q = np.arange(qnum)\n",
    "print(len(q))\n",
    "print(len(NDCG_Yq))\n",
    "print(len(NDCG_Y_hat))\n",
    "plt.plot(q, NDCG_Yq)\n",
    "plt.plot(q, NDCG_Y_hat)"
   ]
  },
  {
   "cell_type": "code",
   "execution_count": null,
   "metadata": {},
   "outputs": [],
   "source": []
  }
 ],
 "metadata": {
  "kernelspec": {
   "display_name": "Python 3",
   "language": "python",
   "name": "python3"
  },
  "language_info": {
   "codemirror_mode": {
    "name": "ipython",
    "version": 3
   },
   "file_extension": ".py",
   "mimetype": "text/x-python",
   "name": "python",
   "nbconvert_exporter": "python",
   "pygments_lexer": "ipython3",
   "version": "3.7.2"
  }
 },
 "nbformat": 4,
 "nbformat_minor": 2
}
