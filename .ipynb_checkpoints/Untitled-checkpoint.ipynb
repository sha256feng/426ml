{
 "cells": [
  {
   "cell_type": "code",
   "execution_count": 19,
   "metadata": {},
   "outputs": [
    {
     "data": {
      "text/plain": [
       "array([0.71662351, 0.54363925, 0.49506909, 0.47698778, 0.47082427,\n",
       "       0.46934969, 0.47281941, 0.47721556, 0.48171016])"
      ]
     },
     "execution_count": 19,
     "metadata": {},
     "output_type": "execute_result"
    }
   ],
   "source": [
    "import numpy as np\n",
    "import pandas as pd\n",
    "a = [0.14987054, 0.21049156, 0.24928028, 0.27887502, 0.30368765, 0.32239329, 0.33938872, 0.35478877, 0.36900858]\n",
    "b = [1, 0.70304911, 0.60676551, 0.56177885, 0.53752543, 0.52363061, 0.52077616, 0.51895372, 0.51790089]\n",
    "c = [1, 0.71737708, 0.62916147, 0.59030948, 0.57125972, 0.56202516, 0.55829334, 0.55790418, 0.558221]\n",
    "d=[]\n",
    "d.append(a)\n",
    "d.append(b)\n",
    "d.append(c)\n",
    "e = np.average(d, axis=0)\n",
    "e"
   ]
  },
  {
   "cell_type": "code",
   "execution_count": 31,
   "metadata": {
    "scrolled": true
   },
   "outputs": [
    {
     "data": {
      "text/plain": [
       "[<matplotlib.lines.Line2D at 0x120768400>]"
      ]
     },
     "execution_count": 31,
     "metadata": {},
     "output_type": "execute_result"
    },
    {
     "data": {
      "image/png": "[encoded data removed]",
      "text/plain": [
       "<Figure size 432x288 with 1 Axes>"
      ]
     },
     "metadata": {
      "needs_background": "light"
     },
     "output_type": "display_data"
    }
   ],
   "source": [
    "import matplotlib.pyplot as plt\n",
    "e = [0.71662351, 0.54363925, 0.49506909, 0.47698778, 0.47082427, 0.46934969, 0.47281941, 0.47721556, 0.48171016,  0.48123851]\n",
    "q = np.arange(10)+1\n",
    "plt.xlabel('k')\n",
    "plt.ylabel('NDCG')\n",
    "plt.plot(q, e)\n",
    "    "
   ]
  },
  {
   "cell_type": "code",
   "execution_count": 34,
   "metadata": {},
   "outputs": [],
   "source": [
    "def del_colname(x):\n",
    "    x = str(x)\n",
    "    x = x.split(\":\")\n",
    "    return float(x[-1])"
   ]
  },
  {
   "cell_type": "code",
   "execution_count": 77,
   "metadata": {},
   "outputs": [
    {
     "name": "stdout",
     "output_type": "stream",
     "text": [
      "<class 'pandas.core.series.Series'>\n",
      "<class 'pandas.core.series.Series'>\n"
     ]
    }
   ],
   "source": [
    "path = \"./Rank_svm/fold1/prediction-c-1.txt\"\n",
    "col = pd.read_csv(path, delimiter=\" \", header=None)\n",
    "col = pd.DataFrame(col)\n",
    "col.columns=['47']\n",
    "# print(col)\n",
    "\n",
    "path = \"./Datasets/OHSUMED/QueryLevelNorm/Fold1/test.txt\"\n",
    "test = pd.read_csv(path, delimiter=\" \", header=None)\n",
    "test = pd.DataFrame(test)\n",
    "test = test.drop([47, 48, 49],axis=1) \n",
    "test = pd.concat([test, col],axis=1)\n",
    "test = test.apply(np.vectorize(del_colname))\n",
    "# print(test.iloc[:, 47])\n",
    "\n",
    "test_q_min = int(test[1].min())\n",
    "test_q_max = int(test[1].max())\n",
    "test_qnum = test_q_max - test_q_min + 1\n",
    "\n",
    "test_ls = [None] * test_qnum\n",
    "\n",
    "for i in range(test_q_min, test_q_max+1):\n",
    "    test_ls[i-test_q_min] = test.loc[test[1] == i].sort_values(0, ascending = False)\n",
    "    test_ls[i-test_q_min].reset_index(drop = True)\n",
    "    \n",
    "    NDCG_Yq = 0\n",
    "    NDCG_Y_hat = 0\n",
    "    \n",
    "for i in range(1):\n",
    "    df_test = test_ls[i]\n",
    "    [data_Row,data_Col] = df_test.shape\n",
    "    docs_num = data_Row\n",
    "        \n",
    "    y_hat =  df_test.iloc[:, 47]\n",
    "    r = np.argsort(y_hat)\n",
    "    l = [0]*len(r)\n",
    "    for i in range(len(r)):\n",
    "        l[r[i]]=i+1\n",
    "    l = pd.Series(l)\n",
    "        \n",
    "    NDCG_Yq = NDCG_Yq + NDCG(k, df_test, np.arange(1,docs_num+1))\n",
    "    NDCG_Y_hat = NDCG_Y_hat + NDCG(k, df_test, l)\n",
    "\n",
    "print(NDCG_Y_hat/NDCG_Yq)"
   ]
  },
  {
   "cell_type": "code",
   "execution_count": 70,
   "metadata": {},
   "outputs": [
    {
     "name": "stdout",
     "output_type": "stream",
     "text": [
      "[1 2 0]\n"
     ]
    },
    {
     "data": {
      "text/plain": [
       "[2, 0, 1]"
      ]
     },
     "execution_count": 70,
     "metadata": {},
     "output_type": "execute_result"
    }
   ],
   "source": [
    "y_hat = [3,1,2]\n",
    "r = np.argsort(y_hat)\n",
    "print(r)\n",
    "l = [0]*len(r)\n",
    "for i in range(len(r)):\n",
    "    l[r[i]]=i+1\n",
    "l\n",
    "#3421 | 2310"
   ]
  },
  {
   "cell_type": "code",
   "execution_count": null,
   "metadata": {},
   "outputs": [],
   "source": []
  }
 ],
 "metadata": {
  "kernelspec": {
   "display_name": "Python 3",
   "language": "python",
   "name": "python3"
  },
  "language_info": {
   "codemirror_mode": {
    "name": "ipython",
    "version": 3
   },
   "file_extension": ".py",
   "mimetype": "text/x-python",
   "name": "python",
   "nbconvert_exporter": "python",
   "pygments_lexer": "ipython3",
   "version": "3.7.2"
  }
 },
 "nbformat": 4,
 "nbformat_minor": 2
}
