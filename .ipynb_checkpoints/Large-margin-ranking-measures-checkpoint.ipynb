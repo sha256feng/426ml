{
 "cells": [
  {
   "cell_type": "code",
   "execution_count": 15,
   "metadata": {},
   "outputs": [],
   "source": [
    "import numpy as np\n",
    "import pandas as pd\n",
    "from scipy.optimize import linear_sum_assignment\n",
    "from qpsolvers import solve_qp\n",
    "import matplotlib.pyplot as plt"
   ]
  },
  {
   "cell_type": "code",
   "execution_count": 16,
   "metadata": {},
   "outputs": [],
   "source": [
    "# For deleting unnecessary prefix eg, \"1:0.123432\", \"2:12.234\" in each cell\n",
    "def del_colname(x):\n",
    "    x = str(x)\n",
    "    x = x.split(\":\")\n",
    "    return float(x[-1])"
   ]
  },
  {
   "cell_type": "code",
   "execution_count": 73,
   "metadata": {},
   "outputs": [],
   "source": [
    "path = \"./Datasets/OHSUMED/QueryLevelNorm/Fold1/train.txt\"\n",
    "data = pd.read_csv(path, delimiter=\" \", header=None)\n",
    "data = pd.DataFrame(data)\n",
    "data = data.drop([47, 48, 49],axis=1) # 47, 48, 49th cols are [\"#docid\", \"=\", docID]\n",
    "data = data.apply(np.vectorize(del_colname))\n",
    "\n",
    "data_q_min = int(data[1].min())\n",
    "# data_q_max = int(data[1].max())\n",
    "data_q_max = data_q_min+30\n",
    "data_qnum = data_q_max - data_q_min + 1\n",
    "\n",
    "w = pd.Series([0]*45)\n",
    "slack = 0\n",
    "SqChanged = 0\n",
    "\n",
    "data_ls = [None] * data_qnum\n",
    "y_hat_ls = [None] * data_qnum #change every element of this list every iteration\n",
    "\n",
    "for i in range(data_q_min, data_q_max+1):\n",
    "    # For each query id, store them as a separate dataframe in a list\n",
    "    # In each query id dataframe, they are ranked by relevance\n",
    "    data_ls[i-data_q_min] = data.loc[data[1] == i].sort_values(0, ascending = False)\n",
    "\n",
    "    # After sorting, drop the original index\n",
    "    data_ls[i-data_q_min].reset_index(drop = True)"
   ]
  },
  {
   "cell_type": "code",
   "execution_count": 74,
   "metadata": {},
   "outputs": [],
   "source": [
    "def feature_map(k, df_data, y=list()): #1*n\n",
    "    [data_Row,data_Col] = df_data.shape\n",
    "    docs_num = data_Row\n",
    "        \n",
    "    ones = np.ones(docs_num)\n",
    "    zeros = np.zeros(docs_num)\n",
    "    \n",
    "    if(len(y)==0):\n",
    "        y = np.arange(1,docs_num+1)\n",
    "    \n",
    "    A = (k*ones+1)-y\n",
    "    A = np.row_stack((A, zeros))\n",
    "    array_A = np.max(A, axis = 0)\n",
    "#     matrix_A = np.expand_dims(array_A, axis=0)\n",
    "    \n",
    "    return np.dot(array_A, df_data.iloc[:,2:])"
   ]
  },
  {
   "cell_type": "code",
   "execution_count": 75,
   "metadata": {},
   "outputs": [],
   "source": [
    "def objF(k, df_data, y=list()): #1*1\n",
    "    featureMap = feature_map(k, df_data, y)\n",
    "    obj = np.dot(featureMap, w.T)\n",
    "    return obj"
   ]
  },
  {
   "cell_type": "code",
   "execution_count": 76,
   "metadata": {},
   "outputs": [],
   "source": [
    "def NDCG(k, df_data, r): #1*1\n",
    "    \"\"\" NDCG is the value function.\n",
    "    It is made of a discount function of ranking D(r) and an increasing function phi(g) for relevance score.\n",
    "    D(r) = 1 / log2(1+r), \n",
    "    phi(g) = np.power(2, g) - 1\n",
    "    It favors higher ranking for highly relevant doc.\n",
    "    \"\"\"\n",
    "    r = r[0:k]\n",
    "    g = df_data.iloc[:,0].values[0:k]\n",
    "    \n",
    "    res = np.dot(1. / np.log2(1+r), (np.power(2,g) - 1))\n",
    "    return res"
   ]
  },
  {
   "cell_type": "code",
   "execution_count": 77,
   "metadata": {},
   "outputs": [],
   "source": [
    "def kuhn_m(k, df_data):\n",
    "    res = []\n",
    "    \n",
    "    [data_Row,data_Col] = df_data.shape\n",
    "    docs_num = data_Row\n",
    "        \n",
    "    ones = np.ones(docs_num)\n",
    "    zeros = np.zeros(docs_num)\n",
    "    \n",
    "    for i in range(docs_num):\n",
    "        rank = i+1\n",
    "        \n",
    "        y = np.ones(docs_num)*rank\n",
    "        A = (k*ones+1)-y\n",
    "        A = np.row_stack((A, zeros))\n",
    "        array_A = np.max(A, axis = 0)\n",
    "    \n",
    "        xw = np.dot(w, df_data.iloc[:,2:].T) #1*m\n",
    "        awx = np.multiply(array_A, xw) #1*m\n",
    "        \n",
    "        g = df_data.iloc[:,0].values #1*m\n",
    "        gd = np.dot(1. / np.log2(1+rank), (np.power(2,g) - 1)) #1*m\n",
    "        \n",
    "        res.append(awx-gd)\n",
    "    \n",
    "    cost = np.asarray(res) #m*m\n",
    "    \n",
    "    row_ind, col_ind = linear_sum_assignment(cost)\n",
    "    y_pred = cost[row_ind,col_ind]\n",
    "    \n",
    "    return y_pred"
   ]
  },
  {
   "cell_type": "code",
   "execution_count": 78,
   "metadata": {},
   "outputs": [],
   "source": [
    "def constrain(k, df_data, y_hat): #return 1 for satisfy, 0 for violate\n",
    "    [data_Row,data_Col] = df_data.shape\n",
    "    docs_num = data_Row\n",
    "    \n",
    "    objYq = objF(k, df_data)\n",
    "    \n",
    "    objY = objF(k, df_data, y_hat)\n",
    "    \n",
    "    r = np.arange(1,docs_num+1)\n",
    "    ndcg = NDCG(k, df_data, r)\n",
    "    deltaQy = 1 - ndcg\n",
    "    \n",
    "    cons = objYq - objY - deltaQy + slack\n",
    "#     print(\"cons:\", cons)\n",
    "    if(cons<0):\n",
    "        return 0\n",
    "    return 1\n"
   ]
  },
  {
   "cell_type": "code",
   "execution_count": 79,
   "metadata": {},
   "outputs": [],
   "source": [
    "def alg(k):\n",
    "    global SqChanged\n",
    "    for i in range(data_qnum):\n",
    "        df_data = data_ls[i]\n",
    "        y_hat = kuhn_m(k, df_data)\n",
    "        y_hat_ls[i] = y_hat\n",
    "        if(constrain(k, df_data, y_hat)==0):\n",
    "            SqChanged = 1\n"
   ]
  },
  {
   "cell_type": "code",
   "execution_count": 80,
   "metadata": {},
   "outputs": [],
   "source": [
    "def opt(k):\n",
    "    global w\n",
    "    v = []\n",
    "    b = []\n",
    "    for i in range(data_qnum):\n",
    "        df_data = data_ls[i]\n",
    "        \n",
    "        v.append(feature_map(k, data_ls[i], y_hat_ls[i]) - feature_map(k, data_ls[i]))\n",
    "        \n",
    "        [data_Row,data_Col] = df_data.shape\n",
    "        docs_num = data_Row\n",
    "        r = np.arange(1,docs_num+1)\n",
    "        bq = 1-NDCG(k, df_data, r)\n",
    "        b.append(bq)\n",
    "        \n",
    "    v_matrix = np.asarray(v) #q*n\n",
    "    K = np.dot(v_matrix, v_matrix.T)\n",
    "    \n",
    "    b_matrix = np.asarray(b) #1*q\n",
    "    \n",
    "    G = -1*np.eye(data_qnum)\n",
    "    h = np.zeros(data_qnum)\n",
    "    A = np.ones(data_qnum)\n",
    "    b = np.array([10])\n",
    "#     print(K.shape, b_matrix.shape, G.shape, h.shape, A.shape, b.shape)\n",
    "    \n",
    "    try:\n",
    "        alpha = solve_qp(K, b_matrix, G, h, A, b)\n",
    "    except ValueError:\n",
    "        print(\"ValueError\")\n",
    "        return 0\n",
    "    w =  np.dot(alpha, v_matrix)\n",
    "    "
   ]
  },
  {
   "cell_type": "code",
   "execution_count": 81,
   "metadata": {},
   "outputs": [],
   "source": [
    "test = pd.read_csv('./Datasets/OHSUMED/QueryLevelNorm/Fold1/test.txt', delimiter=\" \", header=None)\n",
    "test = pd.DataFrame(test)\n",
    "test = test.drop([47, 48, 49],axis=1) # 47, 48, 49th cols are [\"#docid\", \"=\", docID]\n",
    "test = test.apply(np.vectorize(del_colname))\n",
    "\n",
    "test_q_min = int(test[1].min())\n",
    "# test_q_max = q_min+30\n",
    "test_q_max = int(test[1].max())\n",
    "test_qnum = test_q_max - test_q_min + 1\n",
    "\n",
    "test_ls = [None] * test_qnum\n",
    "\n",
    "NDCG_Yq_ls = [] #i*k\n",
    "NDCG_Y_hat_ls = [] #i*k\n",
    "\n",
    "for i in range(test_q_min, test_q_max+1):\n",
    "    test_ls[i-test_q_min] = test.loc[test[1] == i].sort_values(0, ascending = False)\n",
    "    test_ls[i-test_q_min].reset_index(drop = True)\n"
   ]
  },
  {
   "cell_type": "code",
   "execution_count": 82,
   "metadata": {},
   "outputs": [],
   "source": [
    "def testw(k):\n",
    "    \n",
    "    NDCG_Yq = 0\n",
    "    NDCG_Y_hat = 0\n",
    "        \n",
    "    for i in range(test_qnum):\n",
    "        \n",
    "        df_test = test_ls[i]\n",
    "        [data_Row,data_Col] = df_test.shape\n",
    "        docs_num = data_Row\n",
    "        \n",
    "        y_hat = np.dot(w, df_test.iloc[:,2:].T) #1*m\n",
    "        r = np.argsort(y_hat)\n",
    "        \n",
    "        l = [0]*len(r)\n",
    "        for i in range(len(r)):\n",
    "            l[r[i]]=i+1\n",
    "        l = pd.Series(l)\n",
    "        \n",
    "        NDCG_Yq = NDCG_Yq + NDCG(k, df_test, np.arange(1,docs_num+1))\n",
    "        NDCG_Y_hat = NDCG_Y_hat + NDCG(k, df_test, l)\n",
    "        \n",
    "    NDCG_Yq_ls.append(NDCG_Yq)\n",
    "    NDCG_Y_hat_ls.append(NDCG_Y_hat)\n"
   ]
  },
  {
   "cell_type": "code",
   "execution_count": 83,
   "metadata": {},
   "outputs": [],
   "source": [
    "def line():\n",
    "    q = np.arange(k_range)+1\n",
    "    plt.xlabel('k')\n",
    "    plt.ylabel('NDCG')\n",
    "    plt.plot(q, np.divide(NDCG_Y_hat_ls, NDCG_Yq_ls))"
   ]
  },
  {
   "cell_type": "code",
   "execution_count": 84,
   "metadata": {},
   "outputs": [
    {
     "name": "stdout",
     "output_type": "stream",
     "text": [
      "k 1\n",
      "round 0\n"
     ]
    },
    {
     "ename": "ValueError",
     "evalue": "expected a matrix (2-d array), got a (0,) array",
     "output_type": "error",
     "traceback": [
      "\u001b[0;31m---------------------------------------------------------------------------\u001b[0m",
      "\u001b[0;31mValueError\u001b[0m                                Traceback (most recent call last)",
      "\u001b[0;32m<ipython-input-84-5f53ebc3bc60>\u001b[0m in \u001b[0;36m<module>\u001b[0;34m\u001b[0m\n\u001b[1;32m      6\u001b[0m     \u001b[0;32mfor\u001b[0m \u001b[0mi\u001b[0m \u001b[0;32min\u001b[0m \u001b[0mrange\u001b[0m\u001b[0;34m(\u001b[0m\u001b[0;36m5\u001b[0m\u001b[0;34m)\u001b[0m\u001b[0;34m:\u001b[0m\u001b[0;34m\u001b[0m\u001b[0;34m\u001b[0m\u001b[0m\n\u001b[1;32m      7\u001b[0m         \u001b[0mprint\u001b[0m\u001b[0;34m(\u001b[0m\u001b[0;34m\"round\"\u001b[0m\u001b[0;34m,\u001b[0m \u001b[0mi\u001b[0m\u001b[0;34m)\u001b[0m\u001b[0;34m\u001b[0m\u001b[0;34m\u001b[0m\u001b[0m\n\u001b[0;32m----> 8\u001b[0;31m         \u001b[0malg\u001b[0m\u001b[0;34m(\u001b[0m\u001b[0mk\u001b[0m\u001b[0;34m)\u001b[0m\u001b[0;34m\u001b[0m\u001b[0;34m\u001b[0m\u001b[0m\n\u001b[0m\u001b[1;32m      9\u001b[0m         \u001b[0;32mif\u001b[0m\u001b[0;34m(\u001b[0m\u001b[0mSqChanged\u001b[0m\u001b[0;34m==\u001b[0m\u001b[0;36m1\u001b[0m\u001b[0;34m)\u001b[0m\u001b[0;34m:\u001b[0m\u001b[0;34m\u001b[0m\u001b[0;34m\u001b[0m\u001b[0m\n\u001b[1;32m     10\u001b[0m             \u001b[0mopt\u001b[0m\u001b[0;34m(\u001b[0m\u001b[0mk\u001b[0m\u001b[0;34m)\u001b[0m\u001b[0;34m\u001b[0m\u001b[0;34m\u001b[0m\u001b[0m\n",
      "\u001b[0;32m<ipython-input-79-a8db4a2c2569>\u001b[0m in \u001b[0;36malg\u001b[0;34m(k)\u001b[0m\n\u001b[1;32m      3\u001b[0m     \u001b[0;32mfor\u001b[0m \u001b[0mi\u001b[0m \u001b[0;32min\u001b[0m \u001b[0mrange\u001b[0m\u001b[0;34m(\u001b[0m\u001b[0mdata_qnum\u001b[0m\u001b[0;34m)\u001b[0m\u001b[0;34m:\u001b[0m\u001b[0;34m\u001b[0m\u001b[0;34m\u001b[0m\u001b[0m\n\u001b[1;32m      4\u001b[0m         \u001b[0mdf_data\u001b[0m \u001b[0;34m=\u001b[0m \u001b[0mdata_ls\u001b[0m\u001b[0;34m[\u001b[0m\u001b[0mi\u001b[0m\u001b[0;34m]\u001b[0m\u001b[0;34m\u001b[0m\u001b[0;34m\u001b[0m\u001b[0m\n\u001b[0;32m----> 5\u001b[0;31m         \u001b[0my_hat\u001b[0m \u001b[0;34m=\u001b[0m \u001b[0mkuhn_m\u001b[0m\u001b[0;34m(\u001b[0m\u001b[0mk\u001b[0m\u001b[0;34m,\u001b[0m \u001b[0mdf_data\u001b[0m\u001b[0;34m)\u001b[0m\u001b[0;34m\u001b[0m\u001b[0;34m\u001b[0m\u001b[0m\n\u001b[0m\u001b[1;32m      6\u001b[0m         \u001b[0my_hat_ls\u001b[0m\u001b[0;34m[\u001b[0m\u001b[0mi\u001b[0m\u001b[0;34m]\u001b[0m \u001b[0;34m=\u001b[0m \u001b[0my_hat\u001b[0m\u001b[0;34m\u001b[0m\u001b[0;34m\u001b[0m\u001b[0m\n\u001b[1;32m      7\u001b[0m         \u001b[0;32mif\u001b[0m\u001b[0;34m(\u001b[0m\u001b[0mconstrain\u001b[0m\u001b[0;34m(\u001b[0m\u001b[0mk\u001b[0m\u001b[0;34m,\u001b[0m \u001b[0mdf_data\u001b[0m\u001b[0;34m,\u001b[0m \u001b[0my_hat\u001b[0m\u001b[0;34m)\u001b[0m\u001b[0;34m==\u001b[0m\u001b[0;36m0\u001b[0m\u001b[0;34m)\u001b[0m\u001b[0;34m:\u001b[0m\u001b[0;34m\u001b[0m\u001b[0;34m\u001b[0m\u001b[0m\n",
      "\u001b[0;32m<ipython-input-77-3f21c988a086>\u001b[0m in \u001b[0;36mkuhn_m\u001b[0;34m(k, df_data)\u001b[0m\n\u001b[1;32m     26\u001b[0m     \u001b[0mcost\u001b[0m \u001b[0;34m=\u001b[0m \u001b[0mnp\u001b[0m\u001b[0;34m.\u001b[0m\u001b[0masarray\u001b[0m\u001b[0;34m(\u001b[0m\u001b[0mres\u001b[0m\u001b[0;34m)\u001b[0m \u001b[0;31m#m*m\u001b[0m\u001b[0;34m\u001b[0m\u001b[0;34m\u001b[0m\u001b[0m\n\u001b[1;32m     27\u001b[0m \u001b[0;34m\u001b[0m\u001b[0m\n\u001b[0;32m---> 28\u001b[0;31m     \u001b[0mrow_ind\u001b[0m\u001b[0;34m,\u001b[0m \u001b[0mcol_ind\u001b[0m \u001b[0;34m=\u001b[0m \u001b[0mlinear_sum_assignment\u001b[0m\u001b[0;34m(\u001b[0m\u001b[0mcost\u001b[0m\u001b[0;34m)\u001b[0m\u001b[0;34m\u001b[0m\u001b[0;34m\u001b[0m\u001b[0m\n\u001b[0m\u001b[1;32m     29\u001b[0m     \u001b[0my_pred\u001b[0m \u001b[0;34m=\u001b[0m \u001b[0mcost\u001b[0m\u001b[0;34m[\u001b[0m\u001b[0mrow_ind\u001b[0m\u001b[0;34m,\u001b[0m\u001b[0mcol_ind\u001b[0m\u001b[0;34m]\u001b[0m\u001b[0;34m\u001b[0m\u001b[0;34m\u001b[0m\u001b[0m\n\u001b[1;32m     30\u001b[0m \u001b[0;34m\u001b[0m\u001b[0m\n",
      "\u001b[0;32m~/anaconda3/lib/python3.7/site-packages/scipy/optimize/_hungarian.py\u001b[0m in \u001b[0;36mlinear_sum_assignment\u001b[0;34m(cost_matrix)\u001b[0m\n\u001b[1;32m     83\u001b[0m     \u001b[0;32mif\u001b[0m \u001b[0mlen\u001b[0m\u001b[0;34m(\u001b[0m\u001b[0mcost_matrix\u001b[0m\u001b[0;34m.\u001b[0m\u001b[0mshape\u001b[0m\u001b[0;34m)\u001b[0m \u001b[0;34m!=\u001b[0m \u001b[0;36m2\u001b[0m\u001b[0;34m:\u001b[0m\u001b[0;34m\u001b[0m\u001b[0;34m\u001b[0m\u001b[0m\n\u001b[1;32m     84\u001b[0m         raise ValueError(\"expected a matrix (2-d array), got a %r array\"\n\u001b[0;32m---> 85\u001b[0;31m                          % (cost_matrix.shape,))\n\u001b[0m\u001b[1;32m     86\u001b[0m \u001b[0;34m\u001b[0m\u001b[0m\n\u001b[1;32m     87\u001b[0m     if not (np.issubdtype(cost_matrix.dtype, np.number) or\n",
      "\u001b[0;31mValueError\u001b[0m: expected a matrix (2-d array), got a (0,) array"
     ]
    }
   ],
   "source": [
    "k_range = 10\n",
    "# print(w)\n",
    "for j in range(k_range):\n",
    "    k = j+1\n",
    "    print(\"k\", k)\n",
    "    for i in range(5):\n",
    "        print(\"round\", i)\n",
    "        alg(k)\n",
    "        if(SqChanged==1):\n",
    "            opt(k)\n",
    "        else:\n",
    "            break\n",
    "    testw(k)\n",
    "print(np.divide(NDCG_Y_hat_ls, NDCG_Yq_ls))"
   ]
  },
  {
   "cell_type": "code",
   "execution_count": 105,
   "metadata": {},
   "outputs": [
    {
     "data": {
      "image/png": "[encoded data removed]",
      "text/plain": [
       "<Figure size 432x288 with 1 Axes>"
      ]
     },
     "metadata": {
      "needs_background": "light"
     },
     "output_type": "display_data"
    }
   ],
   "source": [
    "line()"
   ]
  },
  {
   "cell_type": "code",
   "execution_count": null,
   "metadata": {},
   "outputs": [],
   "source": []
  }
 ],
 "metadata": {
  "kernelspec": {
   "display_name": "Python 3",
   "language": "python",
   "name": "python3"
  },
  "language_info": {
   "codemirror_mode": {
    "name": "ipython",
    "version": 3
   },
   "file_extension": ".py",
   "mimetype": "text/x-python",
   "name": "python",
   "nbconvert_exporter": "python",
   "pygments_lexer": "ipython3",
   "version": "3.7.2"
  }
 },
 "nbformat": 4,
 "nbformat_minor": 2
}
